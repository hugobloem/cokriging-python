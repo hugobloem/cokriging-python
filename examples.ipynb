{
 "cells": [
  {
   "cell_type": "markdown",
   "metadata": {},
   "source": [
    "# Examples\n",
    "Examples from the paper."
   ]
  },
  {
   "cell_type": "code",
   "execution_count": 1,
   "metadata": {},
   "outputs": [],
   "source": [
    "import numpy as np\n",
    "import cokriging as ck"
   ]
  },
  {
   "cell_type": "markdown",
   "metadata": {},
   "source": [
    "## Example 1\n",
    "Carr, Myers, and Glass (1985) data"
   ]
  },
  {
   "cell_type": "code",
   "execution_count": 2,
   "metadata": {},
   "outputs": [],
   "source": [
    "model = np.array(\n",
    "    [[1, 1],\n",
    "     [4, 30]],\n",
    ")\n",
    "c = np.array([\n",
    "    [[1.5, -0.975],\n",
    "     [-0.975, 0.5]],\n",
    "    [[12.0, -5.9],\n",
    "     [-5.9,  1.8]],\n",
    "])"
   ]
  },
  {
   "cell_type": "markdown",
   "metadata": {},
   "source": [
    "## Example 2\n",
    "Block cokriging in 3D, with three variables and a missing value"
   ]
  },
  {
   "cell_type": "code",
   "execution_count": 3,
   "metadata": {},
   "outputs": [
    {
     "name": "stdout",
     "output_type": "stream",
     "text": [
      "(27, 3) (1, 3)\n",
      "[[-3.33333333e-01 -5.55111512e-17  3.33333333e-01]\n",
      " [-3.33333333e-01 -5.55111512e-17  3.33333333e-01]\n",
      " [-3.33333333e-01 -5.55111512e-17  3.33333333e-01]\n",
      " [-3.33333333e-01 -5.55111512e-17  3.33333333e-01]\n",
      " [-3.33333333e-01 -5.55111512e-17  3.33333333e-01]\n",
      " [-3.33333333e-01 -5.55111512e-17  3.33333333e-01]\n",
      " [-3.33333333e-01 -5.55111512e-17  3.33333333e-01]\n",
      " [-3.33333333e-01 -5.55111512e-17  3.33333333e-01]\n",
      " [-3.33333333e-01 -5.55111512e-17  3.33333333e-01]\n",
      " [-3.33333333e-01 -5.55111512e-17  3.33333333e-01]\n",
      " [-3.33333333e-01 -5.55111512e-17  3.33333333e-01]\n",
      " [-3.33333333e-01 -5.55111512e-17  3.33333333e-01]\n",
      " [-3.33333333e-01 -5.55111512e-17  3.33333333e-01]\n",
      " [-3.33333333e-01 -5.55111512e-17  3.33333333e-01]\n",
      " [-3.33333333e-01 -5.55111512e-17  3.33333333e-01]\n",
      " [-3.33333333e-01 -5.55111512e-17  3.33333333e-01]\n",
      " [-3.33333333e-01 -5.55111512e-17  3.33333333e-01]\n",
      " [-3.33333333e-01 -5.55111512e-17  3.33333333e-01]\n",
      " [-3.33333333e-01 -5.55111512e-17  3.33333333e-01]\n",
      " [-3.33333333e-01 -5.55111512e-17  3.33333333e-01]\n",
      " [-3.33333333e-01 -5.55111512e-17  3.33333333e-01]\n",
      " [-3.33333333e-01 -5.55111512e-17  3.33333333e-01]\n",
      " [-3.33333333e-01 -5.55111512e-17  3.33333333e-01]\n",
      " [-3.33333333e-01 -5.55111512e-17  3.33333333e-01]\n",
      " [-3.33333333e-01 -5.55111512e-17  3.33333333e-01]\n",
      " [-3.33333333e-01 -5.55111512e-17  3.33333333e-01]\n",
      " [-3.33333333e-01 -5.55111512e-17  3.33333333e-01]]\n"
     ]
    },
    {
     "ename": "ValueError",
     "evalue": "all the input array dimensions for the concatenation axis must match exactly, but along dimension 0, the array at index 0 has size 27 and the array at index 1 has size 1",
     "output_type": "error",
     "traceback": [
      "\u001b[0;31m---------------------------------------------------------------------------\u001b[0m",
      "\u001b[0;31mValueError\u001b[0m                                Traceback (most recent call last)",
      "\u001b[1;32m/home/hugo/Cokriging/examples.ipynb Cell 6\u001b[0m in \u001b[0;36m<cell line: 26>\u001b[0;34m()\u001b[0m\n\u001b[1;32m     <a href='vscode-notebook-cell://wsl%2Bubuntu/home/hugo/Cokriging/examples.ipynb#W6sdnNjb2RlLXJlbW90ZQ%3D%3D?line=22'>23</a>\u001b[0m rad \u001b[39m=\u001b[39m \u001b[39m100\u001b[39m\n\u001b[1;32m     <a href='vscode-notebook-cell://wsl%2Bubuntu/home/hugo/Cokriging/examples.ipynb#W6sdnNjb2RlLXJlbW90ZQ%3D%3D?line=23'>24</a>\u001b[0m ntok \u001b[39m=\u001b[39m \u001b[39m2\u001b[39m\n\u001b[0;32m---> <a href='vscode-notebook-cell://wsl%2Bubuntu/home/hugo/Cokriging/examples.ipynb#W6sdnNjb2RlLXJlbW90ZQ%3D%3D?line=25'>26</a>\u001b[0m x0s, s, sv, \u001b[39mid\u001b[39m, b \u001b[39m=\u001b[39m ck\u001b[39m.\u001b[39;49mcokri(x, x0, model, c, itype, avg, block, nd, ival, nk, rad, ntok)\n",
      "File \u001b[0;32m~/Cokriging/cokriging/cokri.py:103\u001b[0m, in \u001b[0;36mcokri\u001b[0;34m(x, x0, model, c, itype, avg, block, nd, ival, nk, rad, ntok)\u001b[0m\n\u001b[1;32m    101\u001b[0m         \u001b[39mprint\u001b[39m(t2\u001b[39m.\u001b[39mshape, (np\u001b[39m.\u001b[39mkron(np\u001b[39m.\u001b[39mones((n1, \u001b[39m1\u001b[39m)), np\u001b[39m.\u001b[39mkron(t, np\u001b[39m.\u001b[39mones((nr, \u001b[39m1\u001b[39m)))))\u001b[39m.\u001b[39mshape)\n\u001b[1;32m    102\u001b[0m         \u001b[39mprint\u001b[39m(t2)\n\u001b[0;32m--> 103\u001b[0m         t2 \u001b[39m=\u001b[39m np\u001b[39m.\u001b[39;49mblock([t2, np\u001b[39m.\u001b[39;49mkron(np\u001b[39m.\u001b[39;49mones((n1, \u001b[39m1\u001b[39;49m)), np\u001b[39m.\u001b[39;49mkron(t, np\u001b[39m.\u001b[39;49mones((nr, \u001b[39m1\u001b[39;49m))))])\n\u001b[1;32m    105\u001b[0m grid \u001b[39m=\u001b[39m t2 \u001b[39m*\u001b[39m (np\u001b[39m.\u001b[39mones((ng, \u001b[39m1\u001b[39m)) \u001b[39m@\u001b[39m block)\n\u001b[1;32m    106\u001b[0m t \u001b[39m=\u001b[39m np\u001b[39m.\u001b[39mblock([grid, np\u001b[39m.\u001b[39mzeros((ng, p))])\n",
      "File \u001b[0;32m<__array_function__ internals>:180\u001b[0m, in \u001b[0;36mblock\u001b[0;34m(*args, **kwargs)\u001b[0m\n",
      "File \u001b[0;32m~/miniconda3/envs/studioGAN/lib/python3.9/site-packages/numpy/core/shape_base.py:847\u001b[0m, in \u001b[0;36mblock\u001b[0;34m(arrays)\u001b[0m\n\u001b[1;32m    845\u001b[0m     \u001b[39mreturn\u001b[39;00m _block_slicing(arrays, list_ndim, result_ndim)\n\u001b[1;32m    846\u001b[0m \u001b[39melse\u001b[39;00m:\n\u001b[0;32m--> 847\u001b[0m     \u001b[39mreturn\u001b[39;00m _block_concatenate(arrays, list_ndim, result_ndim)\n",
      "File \u001b[0;32m~/miniconda3/envs/studioGAN/lib/python3.9/site-packages/numpy/core/shape_base.py:891\u001b[0m, in \u001b[0;36m_block_concatenate\u001b[0;34m(arrays, list_ndim, result_ndim)\u001b[0m\n\u001b[1;32m    890\u001b[0m \u001b[39mdef\u001b[39;00m \u001b[39m_block_concatenate\u001b[39m(arrays, list_ndim, result_ndim):\n\u001b[0;32m--> 891\u001b[0m     result \u001b[39m=\u001b[39m _block(arrays, list_ndim, result_ndim)\n\u001b[1;32m    892\u001b[0m     \u001b[39mif\u001b[39;00m list_ndim \u001b[39m==\u001b[39m \u001b[39m0\u001b[39m:\n\u001b[1;32m    893\u001b[0m         \u001b[39m# Catch an edge case where _block returns a view because\u001b[39;00m\n\u001b[1;32m    894\u001b[0m         \u001b[39m# `arrays` is a single numpy array and not a list of numpy arrays.\u001b[39;00m\n\u001b[1;32m    895\u001b[0m         \u001b[39m# This might copy scalars or lists twice, but this isn't a likely\u001b[39;00m\n\u001b[1;32m    896\u001b[0m         \u001b[39m# usecase for those interested in performance\u001b[39;00m\n\u001b[1;32m    897\u001b[0m         result \u001b[39m=\u001b[39m result\u001b[39m.\u001b[39mcopy()\n",
      "File \u001b[0;32m~/miniconda3/envs/studioGAN/lib/python3.9/site-packages/numpy/core/shape_base.py:660\u001b[0m, in \u001b[0;36m_block\u001b[0;34m(arrays, max_depth, result_ndim, depth)\u001b[0m\n\u001b[1;32m    657\u001b[0m \u001b[39mif\u001b[39;00m depth \u001b[39m<\u001b[39m max_depth:\n\u001b[1;32m    658\u001b[0m     arrs \u001b[39m=\u001b[39m [_block(arr, max_depth, result_ndim, depth\u001b[39m+\u001b[39m\u001b[39m1\u001b[39m)\n\u001b[1;32m    659\u001b[0m             \u001b[39mfor\u001b[39;00m arr \u001b[39min\u001b[39;00m arrays]\n\u001b[0;32m--> 660\u001b[0m     \u001b[39mreturn\u001b[39;00m _concatenate(arrs, axis\u001b[39m=\u001b[39;49m\u001b[39m-\u001b[39;49m(max_depth\u001b[39m-\u001b[39;49mdepth))\n\u001b[1;32m    661\u001b[0m \u001b[39melse\u001b[39;00m:\n\u001b[1;32m    662\u001b[0m     \u001b[39m# We've 'bottomed out' - arrays is either a scalar or an array\u001b[39;00m\n\u001b[1;32m    663\u001b[0m     \u001b[39m# type(arrays) is not list\u001b[39;00m\n\u001b[1;32m    664\u001b[0m     \u001b[39mreturn\u001b[39;00m _atleast_nd(arrays, result_ndim)\n",
      "\u001b[0;31mValueError\u001b[0m: all the input array dimensions for the concatenation axis must match exactly, but along dimension 0, the array at index 0 has size 27 and the array at index 1 has size 1"
     ]
    }
   ],
   "source": [
    "x = np.array([[-3,  6,  1,  5,  0, 41],\n",
    "              [-8, -5,  0, 52, 38, np.nan],\n",
    "              [ 3, -3,  3, 67,  6, 58]])\n",
    "\n",
    "x0 = np.array([[  0,  0,  0],\n",
    "               [ 10, 20, 33]])\n",
    "\n",
    "block = np.array([5, 10, 5])\n",
    "nd = np.array([3, 3, 2])\n",
    "model = np.array([[ 1,  1,  1,  1,  0,  0,  0],\n",
    "                  [ 4, 50, 30, 10,  0,  0, 30]])\n",
    "c = np.array([[[ 20,  10,  5],\n",
    "               [ 10,  25,  3],\n",
    "               [  5,   3, 12]],\n",
    "                \n",
    "              [[ 50, -20, 15],\n",
    "               [-20,  25, -7],\n",
    "               [ 15,  -7, 15]],])\n",
    "itype = 3\n",
    "avg = np.array([0, 0, 0])\n",
    "ival = 0\n",
    "nk = 3\n",
    "rad = 100\n",
    "ntok = 2\n",
    "\n",
    "x0s, s, sv, id, b = ck.cokri(x, x0, model, c, itype, avg, block, nd, ival, nk, rad, ntok)"
   ]
  }
 ],
 "metadata": {
  "kernelspec": {
   "display_name": "Python 3.9.13 ('studioGAN')",
   "language": "python",
   "name": "python3"
  },
  "language_info": {
   "codemirror_mode": {
    "name": "ipython",
    "version": 3
   },
   "file_extension": ".py",
   "mimetype": "text/x-python",
   "name": "python",
   "nbconvert_exporter": "python",
   "pygments_lexer": "ipython3",
   "version": "3.9.13"
  },
  "orig_nbformat": 4,
  "vscode": {
   "interpreter": {
    "hash": "44ad688de677bcb77ff8d5866fac7a782d6c761345cb0146167a853d0ef86078"
   }
  }
 },
 "nbformat": 4,
 "nbformat_minor": 2
}
